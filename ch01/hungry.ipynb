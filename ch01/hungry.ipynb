{
  "nbformat": 4,
  "nbformat_minor": 0,
  "metadata": {
    "colab": {
      "name": "hungry.ipynb",
      "provenance": [],
      "authorship_tag": "ABX9TyMPheNImJ05SiCA8WJ6H9lH"
    },
    "kernelspec": {
      "name": "python3",
      "display_name": "Python 3"
    }
  },
  "cells": [
    {
      "cell_type": "code",
      "metadata": {
        "id": "Fi4IC8XCPzRA",
        "colab_type": "code",
        "colab": {
          "base_uri": "https://localhost:8080/",
          "height": 34
        },
        "outputId": "821c56de-e7c3-4828-ced4-a19616bf8190"
      },
      "source": [
        "print(\"I'm hungry!\")"
      ],
      "execution_count": 1,
      "outputs": [
        {
          "output_type": "stream",
          "text": [
            "I'm hungry!\n"
          ],
          "name": "stdout"
        }
      ]
    }
  ]
}
